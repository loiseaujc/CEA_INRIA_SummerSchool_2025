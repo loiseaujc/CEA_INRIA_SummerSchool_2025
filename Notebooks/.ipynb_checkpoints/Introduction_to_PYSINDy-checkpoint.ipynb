{
 "cells": [
  {
   "cell_type": "markdown",
   "id": "fc91939a-6799-4270-85af-c2676fcd9c02",
   "metadata": {},
   "source": [
    "<img src=\"https://assets.ensam.eu/logo/fr/logo-trans-322x84.png\" style=\"width:256px\" > <img src=\"https://upload.wikimedia.org/wikipedia/commons/1/12/Cc-by-nc-sa_icon.svg\" width=192 align=right>\n",
    "\n",
    "**Author :** Jean-Christophe Loiseau\n",
    "\n",
    "**Email :** [jean-christophe.loiseau@ensam.eu](mailto:jean-christophe.loiseau@ensam.eu)\n",
    "\n",
    "**Date :** June 2025\n",
    "\n",
    "---"
   ]
  },
  {
   "cell_type": "code",
   "execution_count": 1,
   "id": "6e5d3bcd-4703-413f-8d6c-14b8a422d2c9",
   "metadata": {},
   "outputs": [
    {
     "name": "stderr",
     "output_type": "stream",
     "text": [
      "/home/loiseau/miniconda3/envs/cea_saclay/lib/python3.12/site-packages/pysindy/__init__.py:1: UserWarning: pkg_resources is deprecated as an API. See https://setuptools.pypa.io/en/latest/pkg_resources.html. The pkg_resources package is slated for removal as early as 2025-11-30. Refrain from using this package or pin to Setuptools<81.\n",
      "  from pkg_resources import DistributionNotFound\n"
     ]
    }
   ],
   "source": [
    "#> Standard Python packages.\n",
    "import numpy as np\n",
    "import scipy as sp\n",
    "import matplotlib.pyplot as plt\n",
    "\n",
    "#> PySINDy\n",
    "import pysindy as ps"
   ]
  },
  {
   "cell_type": "markdown",
   "id": "ba4e5267-f43f-433f-ab50-331eebb831a0",
   "metadata": {},
   "source": [
    "# **Nonlinear system identification with PySINDy**\n",
    "\n",
    "**NOTE :** This notebook is an introduction to the python package `PySINDy`. It is primarily adapted from the example notebooks found in the `PySINDy` Github repo [(here)](https://github.com/dynamicslab/pysindy/tree/master/examples)."
   ]
  },
  {
   "cell_type": "markdown",
   "id": "448edd2b-2e42-4527-8f38-84aabe397b91",
   "metadata": {},
   "source": [
    "### **Acknowledgements**\n",
    "\n",
    "This work was made possible thanks to the financial support of the French National Agency for Research (ANR) through the ANR-33-CE46-0008-CONMAN grant agreement.\n",
    "\n",
    "<img src=\"https://upload.wikimedia.org/wikipedia/fr/c/c3/Nouveau_logo_ANR_2022.jpg\" style=\"width:256px\" >"
   ]
  }
 ],
 "metadata": {
  "kernelspec": {
   "display_name": "cea_saclay",
   "language": "python",
   "name": "cea_saclay"
  },
  "language_info": {
   "codemirror_mode": {
    "name": "ipython",
    "version": 3
   },
   "file_extension": ".py",
   "mimetype": "text/x-python",
   "name": "python",
   "nbconvert_exporter": "python",
   "pygments_lexer": "ipython3",
   "version": "3.12.11"
  }
 },
 "nbformat": 4,
 "nbformat_minor": 5
}
